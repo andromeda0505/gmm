{
 "cells": [
  {
   "cell_type": "markdown",
   "metadata": {},
   "source": [
    "# Maximum likelihood estimation via GMM"
   ]
  },
  {
   "cell_type": "code",
   "execution_count": 1,
   "metadata": {},
   "outputs": [],
   "source": [
    "import numpy as np\n",
    "import pandas as pd\n",
    "import matplotlib.pyplot as plt\n",
    "\n",
    "import statsmodels.api as sm\n",
    "import formulaic as fm\n",
    "\n",
    "from gmm.gmm import GMMEstimator\n",
    "\n",
    "import pdir\n",
    "\n",
    "np.random.seed(94305)"
   ]
  },
  {
   "cell_type": "markdown",
   "metadata": {},
   "source": [
    "## OLS"
   ]
  },
  {
   "cell_type": "code",
   "execution_count": 2,
   "metadata": {},
   "outputs": [],
   "source": [
    "# simulate some data for for the linear probability model\n",
    "n = 1000\n",
    "p = 2\n",
    "X = np.random.normal(size=(n, p))\n",
    "X = sm.add_constant(X)\n",
    "beta = np.array([0.5, -0.5, 0.5])\n",
    "y = np.random.binomial(1, 1 / (1 + np.exp(-X @ beta)))"
   ]
  },
  {
   "cell_type": "code",
   "execution_count": 3,
   "metadata": {},
   "outputs": [
    {
     "name": "stdout",
     "output_type": "stream",
     "text": [
      "Parameters:  [ 0.60326474 -0.11124768  0.11141277]\n"
     ]
    }
   ],
   "source": [
    "lpm_mod = sm.OLS(y, X)\n",
    "lpm_res = lpm_mod.fit()\n",
    "print(\"Parameters: \", lpm_res.params)"
   ]
  },
  {
   "cell_type": "code",
   "execution_count": 4,
   "metadata": {},
   "outputs": [
    {
     "data": {
      "text/html": [
       "<div>\n",
       "<style scoped>\n",
       "    .dataframe tbody tr th:only-of-type {\n",
       "        vertical-align: middle;\n",
       "    }\n",
       "\n",
       "    .dataframe tbody tr th {\n",
       "        vertical-align: top;\n",
       "    }\n",
       "\n",
       "    .dataframe thead th {\n",
       "        text-align: right;\n",
       "    }\n",
       "</style>\n",
       "<table border=\"1\" class=\"dataframe\">\n",
       "  <thead>\n",
       "    <tr style=\"text-align: right;\">\n",
       "      <th></th>\n",
       "      <th>coef</th>\n",
       "      <th>std err</th>\n",
       "      <th>t</th>\n",
       "      <th>p-value</th>\n",
       "      <th>[0.025</th>\n",
       "      <th>0.975]</th>\n",
       "    </tr>\n",
       "  </thead>\n",
       "  <tbody>\n",
       "    <tr>\n",
       "      <th>0</th>\n",
       "      <td>0.6033</td>\n",
       "      <td>0.0317</td>\n",
       "      <td>19.0085</td>\n",
       "      <td>0.0000</td>\n",
       "      <td>0.5411</td>\n",
       "      <td>0.6655</td>\n",
       "    </tr>\n",
       "    <tr>\n",
       "      <th>1</th>\n",
       "      <td>-0.1112</td>\n",
       "      <td>0.0348</td>\n",
       "      <td>-3.1953</td>\n",
       "      <td>0.0014</td>\n",
       "      <td>-0.1795</td>\n",
       "      <td>-0.0430</td>\n",
       "    </tr>\n",
       "    <tr>\n",
       "      <th>2</th>\n",
       "      <td>0.1114</td>\n",
       "      <td>0.0310</td>\n",
       "      <td>3.5931</td>\n",
       "      <td>0.0003</td>\n",
       "      <td>0.0506</td>\n",
       "      <td>0.1722</td>\n",
       "    </tr>\n",
       "  </tbody>\n",
       "</table>\n",
       "</div>"
      ],
      "text/plain": [
       "     coef  std err        t  p-value  [0.025  0.975]\n",
       "0  0.6033   0.0317  19.0085   0.0000  0.5411  0.6655\n",
       "1 -0.1112   0.0348  -3.1953   0.0014 -0.1795 -0.0430\n",
       "2  0.1114   0.0310   3.5931   0.0003  0.0506  0.1722"
      ]
     },
     "execution_count": 4,
     "metadata": {},
     "output_type": "execute_result"
    }
   ],
   "source": [
    "Z = X.copy()\n",
    "\n",
    "ψ = lambda z, y, x, beta: z * (y - x @ beta)[:, np.newaxis]\n",
    "gmm = GMMEstimator(ψ, weighting_matrix=None, backend = \"scipy\")\n",
    "gmm.fit(Z, y, X)\n",
    "gmm.summary()"
   ]
  },
  {
   "cell_type": "markdown",
   "metadata": {},
   "source": [
    "## Logit"
   ]
  },
  {
   "cell_type": "code",
   "execution_count": 5,
   "metadata": {},
   "outputs": [
    {
     "name": "stdout",
     "output_type": "stream",
     "text": [
      "Parameters:  [ 0.47180703 -0.53023967  0.5246359 ]\n"
     ]
    }
   ],
   "source": [
    "logit_mod = sm.Logit(y, X)\n",
    "logit_res = logit_mod.fit(disp=0)\n",
    "print(\"Parameters: \", logit_res.params)"
   ]
  },
  {
   "cell_type": "markdown",
   "metadata": {},
   "source": [
    "Moment condition:\n",
    "\n",
    "$$\n",
    "\\mathbb{E} \\left[ \\left( y_i - \\frac{1}{1 + \\exp(-x_i' \\beta)} \\right) x_i \\right] = 0\n",
    "$$"
   ]
  },
  {
   "cell_type": "code",
   "execution_count": 6,
   "metadata": {},
   "outputs": [
    {
     "data": {
      "text/html": [
       "<div>\n",
       "<style scoped>\n",
       "    .dataframe tbody tr th:only-of-type {\n",
       "        vertical-align: middle;\n",
       "    }\n",
       "\n",
       "    .dataframe tbody tr th {\n",
       "        vertical-align: top;\n",
       "    }\n",
       "\n",
       "    .dataframe thead th {\n",
       "        text-align: right;\n",
       "    }\n",
       "</style>\n",
       "<table border=\"1\" class=\"dataframe\">\n",
       "  <thead>\n",
       "    <tr style=\"text-align: right;\">\n",
       "      <th></th>\n",
       "      <th>coef</th>\n",
       "      <th>std err</th>\n",
       "      <th>t</th>\n",
       "      <th>p-value</th>\n",
       "      <th>[0.025</th>\n",
       "      <th>0.975]</th>\n",
       "    </tr>\n",
       "  </thead>\n",
       "  <tbody>\n",
       "    <tr>\n",
       "      <th>0</th>\n",
       "      <td>0.4718</td>\n",
       "      <td>0.0147</td>\n",
       "      <td>32.1379</td>\n",
       "      <td>0.0</td>\n",
       "      <td>0.4430</td>\n",
       "      <td>0.5006</td>\n",
       "    </tr>\n",
       "    <tr>\n",
       "      <th>1</th>\n",
       "      <td>-0.5302</td>\n",
       "      <td>0.0142</td>\n",
       "      <td>-37.2980</td>\n",
       "      <td>0.0</td>\n",
       "      <td>-0.5581</td>\n",
       "      <td>-0.5024</td>\n",
       "    </tr>\n",
       "    <tr>\n",
       "      <th>2</th>\n",
       "      <td>0.5246</td>\n",
       "      <td>0.0140</td>\n",
       "      <td>37.5623</td>\n",
       "      <td>0.0</td>\n",
       "      <td>0.4973</td>\n",
       "      <td>0.5520</td>\n",
       "    </tr>\n",
       "  </tbody>\n",
       "</table>\n",
       "</div>"
      ],
      "text/plain": [
       "     coef  std err        t  p-value  [0.025  0.975]\n",
       "0  0.4718   0.0147  32.1379      0.0  0.4430  0.5006\n",
       "1 -0.5302   0.0142 -37.2980      0.0 -0.5581 -0.5024\n",
       "2  0.5246   0.0140  37.5623      0.0  0.4973  0.5520"
      ]
     },
     "execution_count": 6,
     "metadata": {},
     "output_type": "execute_result"
    }
   ],
   "source": [
    "from scipy.special import expit\n",
    "ψ_logit = lambda z, y, x, beta: z * (y - expit(x @ beta))[:, np.newaxis]\n",
    "\n",
    "gmm = GMMEstimator(ψ_logit)\n",
    "gmm.fit(Z, y, X)\n",
    "gmm.summary()\n"
   ]
  },
  {
   "cell_type": "markdown",
   "metadata": {},
   "source": [
    "Identical"
   ]
  },
  {
   "cell_type": "markdown",
   "metadata": {},
   "source": [
    "## Probit"
   ]
  },
  {
   "cell_type": "code",
   "execution_count": 9,
   "metadata": {},
   "outputs": [],
   "source": [
    "from scipy.stats import norm\n",
    "# simulate some data for probit\n",
    "n, p = 1000, 2\n",
    "X = np.random.normal(size=(n, p))\n",
    "X = sm.add_constant(X)\n",
    "beta = np.array([0.5, -0.5, 0.5])\n",
    "y = np.random.binomial(1, norm.cdf(X @ beta))\n",
    "Z = X.copy()"
   ]
  },
  {
   "cell_type": "code",
   "execution_count": 10,
   "metadata": {},
   "outputs": [
    {
     "name": "stdout",
     "output_type": "stream",
     "text": [
      "Parameters:  [ 0.54486658 -0.5288859   0.52154054]\n"
     ]
    }
   ],
   "source": [
    "probit_mod = sm.Probit(y, X)\n",
    "probit_res = probit_mod.fit(disp=0)\n",
    "print(\"Parameters: \", probit_res.params)"
   ]
  },
  {
   "cell_type": "markdown",
   "metadata": {},
   "source": [
    "Moment condition\n",
    "$$\n",
    "\\mathbb{E} \\left[ \\left( y_i - \\Phi(x_i' \\beta) \\right) x_i \\right] = 0\n",
    "$$"
   ]
  },
  {
   "cell_type": "code",
   "execution_count": 11,
   "metadata": {},
   "outputs": [
    {
     "data": {
      "text/html": [
       "<div>\n",
       "<style scoped>\n",
       "    .dataframe tbody tr th:only-of-type {\n",
       "        vertical-align: middle;\n",
       "    }\n",
       "\n",
       "    .dataframe tbody tr th {\n",
       "        vertical-align: top;\n",
       "    }\n",
       "\n",
       "    .dataframe thead th {\n",
       "        text-align: right;\n",
       "    }\n",
       "</style>\n",
       "<table border=\"1\" class=\"dataframe\">\n",
       "  <thead>\n",
       "    <tr style=\"text-align: right;\">\n",
       "      <th></th>\n",
       "      <th>coef</th>\n",
       "      <th>std err</th>\n",
       "      <th>t</th>\n",
       "      <th>p-value</th>\n",
       "      <th>[0.025</th>\n",
       "      <th>0.975]</th>\n",
       "    </tr>\n",
       "  </thead>\n",
       "  <tbody>\n",
       "    <tr>\n",
       "      <th>0</th>\n",
       "      <td>0.5434</td>\n",
       "      <td>0.0133</td>\n",
       "      <td>41.0011</td>\n",
       "      <td>0.0</td>\n",
       "      <td>0.5174</td>\n",
       "      <td>0.5694</td>\n",
       "    </tr>\n",
       "    <tr>\n",
       "      <th>1</th>\n",
       "      <td>-0.5259</td>\n",
       "      <td>0.0117</td>\n",
       "      <td>-44.8897</td>\n",
       "      <td>0.0</td>\n",
       "      <td>-0.5489</td>\n",
       "      <td>-0.5029</td>\n",
       "    </tr>\n",
       "    <tr>\n",
       "      <th>2</th>\n",
       "      <td>0.5179</td>\n",
       "      <td>0.0120</td>\n",
       "      <td>43.2093</td>\n",
       "      <td>0.0</td>\n",
       "      <td>0.4944</td>\n",
       "      <td>0.5414</td>\n",
       "    </tr>\n",
       "  </tbody>\n",
       "</table>\n",
       "</div>"
      ],
      "text/plain": [
       "     coef  std err        t  p-value  [0.025  0.975]\n",
       "0  0.5434   0.0133  41.0011      0.0  0.5174  0.5694\n",
       "1 -0.5259   0.0117 -44.8897      0.0 -0.5489 -0.5029\n",
       "2  0.5179   0.0120  43.2093      0.0  0.4944  0.5414"
      ]
     },
     "execution_count": 11,
     "metadata": {},
     "output_type": "execute_result"
    }
   ],
   "source": [
    "ψ_probit = lambda z, y, x, beta: z * (y - norm.cdf(x @ beta))[:, np.newaxis]\n",
    "gmm = GMMEstimator(ψ_probit)\n",
    "gmm.fit(Z, y, X)\n",
    "gmm.summary()"
   ]
  },
  {
   "cell_type": "markdown",
   "metadata": {},
   "source": [
    "## Poisson"
   ]
  },
  {
   "cell_type": "code",
   "execution_count": 12,
   "metadata": {},
   "outputs": [],
   "source": [
    "# poisson dgp\n",
    "n, p = 1000, 2\n",
    "X = np.random.normal(size=(n, p))\n",
    "X = sm.add_constant(X)\n",
    "beta = np.array([0.5, -0.5, 0.5])\n",
    "y = np.random.poisson(np.exp(X @ beta))\n",
    "\n",
    "Z = X.copy()"
   ]
  },
  {
   "cell_type": "code",
   "execution_count": 13,
   "metadata": {},
   "outputs": [
    {
     "name": "stdout",
     "output_type": "stream",
     "text": [
      "Parameters:  [ 0.53651573 -0.46801223  0.4683773 ]\n"
     ]
    }
   ],
   "source": [
    "poisson_mod = sm.GLM(y, X, family=sm.families.Poisson())\n",
    "poisson_res = poisson_mod.fit()\n",
    "print(\"Parameters: \", poisson_res.params)"
   ]
  },
  {
   "cell_type": "code",
   "execution_count": 14,
   "metadata": {},
   "outputs": [
    {
     "data": {
      "text/html": [
       "<div>\n",
       "<style scoped>\n",
       "    .dataframe tbody tr th:only-of-type {\n",
       "        vertical-align: middle;\n",
       "    }\n",
       "\n",
       "    .dataframe tbody tr th {\n",
       "        vertical-align: top;\n",
       "    }\n",
       "\n",
       "    .dataframe thead th {\n",
       "        text-align: right;\n",
       "    }\n",
       "</style>\n",
       "<table border=\"1\" class=\"dataframe\">\n",
       "  <thead>\n",
       "    <tr style=\"text-align: right;\">\n",
       "      <th></th>\n",
       "      <th>coef</th>\n",
       "      <th>std err</th>\n",
       "      <th>t</th>\n",
       "      <th>p-value</th>\n",
       "      <th>[0.025</th>\n",
       "      <th>0.975]</th>\n",
       "    </tr>\n",
       "  </thead>\n",
       "  <tbody>\n",
       "    <tr>\n",
       "      <th>0</th>\n",
       "      <td>0.5365</td>\n",
       "      <td>0.0317</td>\n",
       "      <td>16.9349</td>\n",
       "      <td>0.0</td>\n",
       "      <td>0.4744</td>\n",
       "      <td>0.5986</td>\n",
       "    </tr>\n",
       "    <tr>\n",
       "      <th>1</th>\n",
       "      <td>-0.4680</td>\n",
       "      <td>0.0349</td>\n",
       "      <td>-13.3989</td>\n",
       "      <td>0.0</td>\n",
       "      <td>-0.5365</td>\n",
       "      <td>-0.3996</td>\n",
       "    </tr>\n",
       "    <tr>\n",
       "      <th>2</th>\n",
       "      <td>0.4684</td>\n",
       "      <td>0.0344</td>\n",
       "      <td>13.6147</td>\n",
       "      <td>0.0</td>\n",
       "      <td>0.4010</td>\n",
       "      <td>0.5358</td>\n",
       "    </tr>\n",
       "  </tbody>\n",
       "</table>\n",
       "</div>"
      ],
      "text/plain": [
       "     coef  std err        t  p-value  [0.025  0.975]\n",
       "0  0.5365   0.0317  16.9349      0.0  0.4744  0.5986\n",
       "1 -0.4680   0.0349 -13.3989      0.0 -0.5365 -0.3996\n",
       "2  0.4684   0.0344  13.6147      0.0  0.4010  0.5358"
      ]
     },
     "execution_count": 14,
     "metadata": {},
     "output_type": "execute_result"
    }
   ],
   "source": [
    "ψ_poisson = lambda z, y, x, beta: z * (y - np.exp(x @ beta))[:, np.newaxis]\n",
    "m = GMMEstimator(ψ_poisson, weighting_matrix=None, backend = \"scipy\")\n",
    "m.fit(Z, y, X)\n",
    "m.summary()"
   ]
  },
  {
   "cell_type": "markdown",
   "metadata": {},
   "source": [
    "# General Maximum Likelihood \n",
    "Moment condition is the score of the likelihood\n",
    "\n",
    "$$\n",
    "g(\\beta) = \\sum_i \\frac{\\partial \\log L(y_i, x_i, \\beta)}{\\partial \\beta}\n",
    "$$"
   ]
  },
  {
   "cell_type": "markdown",
   "metadata": {},
   "source": [
    "## example of mixture logit"
   ]
  },
  {
   "cell_type": "markdown",
   "metadata": {},
   "source": [
    "Let us write an example of a maximum likelihood model for a mixture model with two logit regressions with separate coefficient vectors. Each unit has probability $\\lambda$ of being in the first regime and $1 - \\lambda$ of being in the second regime. The likelihood is\n",
    "\n",
    "$$\n",
    "L(y, x, \\beta_1, \\beta_2, \\lambda) = \\prod_i \\left( \\lambda \\frac{1}{1 + \\exp(-x_i' \\beta_1)} + (1 - \\lambda) \\frac{1}{1 + \\exp(-x_i' \\beta_2)} \\right)^{y_i} \\left( 1 - \\lambda \\frac{1}{1 + \\exp(-x_i' \\beta_1)} - (1 - \\lambda) \\frac{1}{1 + \\exp(-x_i' \\beta_2)} \\right)^{1 - y_i}\n",
    "$$\n",
    "\n",
    "The log likelihood is \n",
    "\n",
    "$$\n",
    "\\log L(y, x, \\beta_1, \\beta_2, \\lambda) = \\sum_i y_i \\log \\left( \\lambda \\frac{1}{1 + \\exp(-x_i' \\beta_1)} + (1 - \\lambda) \\frac{1}{1 + \\exp(-x_i' \\beta_2)} \\right) + (1 - y_i) \\log \\left( 1 - \\lambda \\frac{1}{1 + \\exp(-x_i' \\beta_1)} - (1 - \\lambda) \\frac{1}{1 + \\exp(-x_i' \\beta_2)} \\right)\n",
    "$$\n",
    "\n",
    "The score is\n",
    "\n",
    "$$\n",
    "g(\\beta_1, \\beta_2, \\lambda) = \\sum_i \\frac{\\partial \\log L(y_i, x_i, \\beta_1, \\beta_2, \\lambda)}{\\partial \\beta_1} + \\frac{\\partial \\log L(y_i, x_i, \\beta_1, \\beta_2, \\lambda)}{\\partial \\beta_2} + \\frac{\\partial \\log L(y_i, x_i, \\beta_1, \\beta_2, \\lambda)}{\\partial \\lambda}\n",
    "$$"
   ]
  },
  {
   "cell_type": "code",
   "execution_count": 29,
   "metadata": {},
   "outputs": [],
   "source": [
    "import numpy as np\n",
    "import scipy.stats as stats\n",
    "import scipy.optimize as optimize\n",
    "\n",
    "def logit(x, beta):\n",
    "    return 1 / (1 + np.exp(-x @ beta))\n",
    "\n",
    "n, p = 1000, 2\n",
    "X = np.random.normal(size=(n, p))\n",
    "X = sm.add_constant(X)\n",
    "beta1 = np.array([0.5, -0.5, 0.5])\n",
    "beta2 = np.array([-1, 0, -1])\n",
    "lambda_ = 0.5\n",
    "y = np.random.binomial(1, lambda_ * logit(X, beta1) + (1 - lambda_) * logit(X, beta2))\n",
    "Z = X.copy()"
   ]
  }
 ],
 "metadata": {
  "kernelspec": {
   "display_name": "py311",
   "language": "python",
   "name": "python3"
  },
  "language_info": {
   "codemirror_mode": {
    "name": "ipython",
    "version": 3
   },
   "file_extension": ".py",
   "mimetype": "text/x-python",
   "name": "python",
   "nbconvert_exporter": "python",
   "pygments_lexer": "ipython3",
   "version": "3.11.5"
  }
 },
 "nbformat": 4,
 "nbformat_minor": 2
}
