{
 "cells": [
  {
   "cell_type": "code",
   "execution_count": 1,
   "metadata": {},
   "outputs": [],
   "source": [
    "import numpy as np\n",
    "import statsmodels.api as sm\n",
    "import linearmodels as lm\n",
    "import pandas as pd\n",
    "\n",
    "import scipy\n",
    "import torch\n",
    "import torchmin\n",
    "\n",
    "np.random.seed(42)"
   ]
  },
  {
   "cell_type": "code",
   "execution_count": 2,
   "metadata": {},
   "outputs": [],
   "source": [
    "def dgp(n = 100_000,\n",
    "        beta = np.array([-0.5, 1.2]),\n",
    "        rho = 0.7, pi = 0.5):\n",
    "    ε = np.random.normal(0, 1, n)\n",
    "    z = np.random.normal(0, 1, n)\n",
    "    # Generate endogenous x, influenced by the instrument\n",
    "    x = z * pi + ε * rho + np.random.normal(0, 1, n)\n",
    "    X = np.c_[np.ones(n), x]\n",
    "    # Outcome variable with true relationship\n",
    "    y = X @ beta + ε + (X[:, 1] > 0) * np.random.normal(0, 1, n)\n",
    "    return y, X, z"
   ]
  },
  {
   "cell_type": "code",
   "execution_count": 3,
   "metadata": {},
   "outputs": [],
   "source": [
    "class GMMEstimator:\n",
    "    def __init__(self, moment_cond, weighting_matrix=\"optimal\", opt=\"scipy\"):\n",
    "        \"\"\"Generalized Method of Moments Estimator\n",
    "\n",
    "        Args:\n",
    "            moment_cond (function): Moment condition. Returns L X n matrix of moments\n",
    "            weighting_matrix (str, optional): What kind of weight matrix to use. Defaults to 'optimal'.\n",
    "            opt (str, optional): Optimization method. Defaults to 'scipy', numerical via 'torch' works more easily for large problems.\n",
    "\n",
    "        ref: Hansen (1982), Cameron and Trivedi (2005) Chapter 6\n",
    "        \"\"\"\n",
    "        self.moment_cond = moment_cond\n",
    "        self.weighting_matrix = weighting_matrix\n",
    "        self.opt = opt\n",
    "\n",
    "    def gmm_objective(self, beta):\n",
    "        \"\"\"\n",
    "        Quadratic form to be minimized.\n",
    "        \"\"\"\n",
    "        moments = self.moment_cond(self.z, self.y, self.x, beta)\n",
    "        if self.weighting_matrix == \"optimal\":\n",
    "            self.W = self.optimal_weighting_matrix(moments)\n",
    "        else:\n",
    "            if self.opt == \"scipy\":\n",
    "                self.W = np.eye(moments.shape[1])\n",
    "            elif self.opt == \"torch\":\n",
    "                self.W = torch.eye(moments.shape[1])\n",
    "        if self.opt == \"scipy\":\n",
    "            return (1 / self.n) * moments.sum(axis=0).T @ self.W @ moments.sum(axis=0)\n",
    "        elif self.opt == \"torch\":\n",
    "            return (1 / self.n) * torch.matmul(\n",
    "                moments.sum(axis=0).T, torch.matmul(self.W, moments.sum(axis=0))\n",
    "            )\n",
    "\n",
    "    def optimal_weighting_matrix(self, moments):\n",
    "        \"\"\"\n",
    "        Optimal Weight matrix\n",
    "        \"\"\"\n",
    "        if self.opt == \"scipy\":\n",
    "            return np.linalg.inv((1 / self.n) * (moments.T @ moments))\n",
    "        elif self.opt == \"torch\":\n",
    "            return torch.inverse((1 / self.n) * torch.matmul(moments.T, moments))\n",
    "\n",
    "    def fit(self, z, y, x, verbose=False):\n",
    "        if self.opt == \"scipy\":\n",
    "            self.z, self.y, self.x = z, y, x\n",
    "            self.n, self.k = x.shape\n",
    "            # minimize the objective function\n",
    "            result = scipy.optimize.minimize(\n",
    "                self.gmm_objective,\n",
    "                x0=np.random.rand(self.k),\n",
    "                method=\"L-BFGS-B\",\n",
    "                options={\"disp\": verbose},\n",
    "            )\n",
    "        elif self.opt == \"torch\":\n",
    "            # minimize blackbox using pytorch\n",
    "            self.z, self.y, self.x = (\n",
    "                torch.tensor(z, dtype=torch.float64),\n",
    "                torch.tensor(y, dtype=torch.float64),\n",
    "                torch.tensor(x, dtype=torch.float64),\n",
    "            )\n",
    "            self.n, self.k = x.shape\n",
    "            beta_init = torch.tensor(\n",
    "                np.random.rand(self.k), dtype=torch.float64, requires_grad=True\n",
    "            )\n",
    "            result = torchmin.minimize(\n",
    "                self.gmm_objective, beta_init, method=\"l-bfgs\", tol=1e-5, disp=verbose\n",
    "            )\n",
    "            self.W = self.W.detach().numpy()\n",
    "        # solution\n",
    "        self.theta = result.x\n",
    "\n",
    "        # Standard error calculation\n",
    "        try:\n",
    "            self.Gamma = self.jacobian_moment_cond()\n",
    "            self.vθ = np.linalg.inv(self.Gamma.T @ self.W @ self.Gamma)\n",
    "            self.std_errors = np.sqrt(self.n * np.diag(self.vθ))\n",
    "        except:\n",
    "            self.std_errors = None\n",
    "\n",
    "    def jacobian_moment_cond(self):\n",
    "        \"\"\"\n",
    "        Jacobian of the moment condition\n",
    "        \"\"\"\n",
    "        if self.opt == \"scipy\":  # Analytic Jacobian for linear IV; else use torch\n",
    "            self.jac_est = -self.z.T @ self.x\n",
    "        elif self.opt == \"torch\":\n",
    "            self.jac = torch.func.jacfwd(self.moment_cond, argnums=3)\n",
    "            self.jac_est = (\n",
    "                self.jac(self.z, self.y, self.x, self.theta)\n",
    "                .sum(axis=0)\n",
    "                .detach()\n",
    "                .numpy()\n",
    "            )\n",
    "        return self.jac_est\n",
    "\n",
    "    def summary(self):\n",
    "        return pd.DataFrame({\"coef\": self.theta, \"std err\": self.std_errors})"
   ]
  },
  {
   "cell_type": "markdown",
   "metadata": {},
   "source": [
    "Single endogeneous variable and single instrument DGP with varying instrument strength ($\\pi$) and degree of endogeneity($\\rho$).\n"
   ]
  },
  {
   "cell_type": "markdown",
   "metadata": {},
   "source": [
    "# No Endogeneity \n",
    "\n",
    "OLS and IV with X as its own instrument should produce the same estimates."
   ]
  },
  {
   "cell_type": "code",
   "execution_count": 4,
   "metadata": {},
   "outputs": [
    {
     "name": "stdout",
     "output_type": "stream",
     "text": [
      "==============================================================================\n",
      "                 coef    std err          z      P>|z|      [0.025      0.975]\n",
      "------------------------------------------------------------------------------\n",
      "const         -0.4714      0.038    -12.245      0.000      -0.547      -0.396\n",
      "x1             1.2065      0.038     31.774      0.000       1.132       1.281\n",
      "==============================================================================\n"
     ]
    }
   ],
   "source": [
    "y, X, z = dgp(n = 1_000, pi = 0, rho = 0)\n",
    "print(sm.OLS(y, X).fit(cov_type = \"HC2\").summary().tables[1])"
   ]
  },
  {
   "cell_type": "markdown",
   "metadata": {},
   "source": [
    "### GMM using Scipy Minimization"
   ]
  },
  {
   "cell_type": "code",
   "execution_count": 5,
   "metadata": {},
   "outputs": [
    {
     "name": "stdout",
     "output_type": "stream",
     "text": [
      "CPU times: user 6.37 ms, sys: 5.86 ms, total: 12.2 ms\n",
      "Wall time: 6.05 ms\n"
     ]
    },
    {
     "data": {
      "text/html": [
       "<div>\n",
       "<style scoped>\n",
       "    .dataframe tbody tr th:only-of-type {\n",
       "        vertical-align: middle;\n",
       "    }\n",
       "\n",
       "    .dataframe tbody tr th {\n",
       "        vertical-align: top;\n",
       "    }\n",
       "\n",
       "    .dataframe thead th {\n",
       "        text-align: right;\n",
       "    }\n",
       "</style>\n",
       "<table border=\"1\" class=\"dataframe\">\n",
       "  <thead>\n",
       "    <tr style=\"text-align: right;\">\n",
       "      <th></th>\n",
       "      <th>coef</th>\n",
       "      <th>std err</th>\n",
       "    </tr>\n",
       "  </thead>\n",
       "  <tbody>\n",
       "    <tr>\n",
       "      <th>0</th>\n",
       "      <td>-0.471433</td>\n",
       "      <td>0.038463</td>\n",
       "    </tr>\n",
       "    <tr>\n",
       "      <th>1</th>\n",
       "      <td>1.206489</td>\n",
       "      <td>0.037892</td>\n",
       "    </tr>\n",
       "  </tbody>\n",
       "</table>\n",
       "</div>"
      ],
      "text/plain": [
       "       coef   std err\n",
       "0 -0.471433  0.038463\n",
       "1  1.206489  0.037892"
      ]
     },
     "execution_count": 5,
     "metadata": {},
     "output_type": "execute_result"
    }
   ],
   "source": [
    "%%time\n",
    "ψ = lambda z, y, x, beta: z * (y - x @ beta)[:, np.newaxis]\n",
    "gmm_scipy = GMMEstimator(ψ)\n",
    "gmm_scipy.fit(np.c_[np.ones(z.shape[0]), X[:, 1]], y, X)\n",
    "gmm_scipy.summary()"
   ]
  },
  {
   "cell_type": "markdown",
   "metadata": {},
   "source": [
    "### GMM using Torch Minimization"
   ]
  },
  {
   "cell_type": "code",
   "execution_count": 6,
   "metadata": {},
   "outputs": [
    {
     "name": "stdout",
     "output_type": "stream",
     "text": [
      "CPU times: user 330 ms, sys: 68.1 ms, total: 398 ms\n",
      "Wall time: 85.1 ms\n"
     ]
    },
    {
     "name": "stderr",
     "output_type": "stream",
     "text": [
      "/tmp/ipykernel_251102/3894699159.py:32: UserWarning: The use of `x.T` on tensors of dimension other than 2 to reverse their shape is deprecated and it will throw an error in a future release. Consider `x.mT` to transpose batches of matrices or `x.permute(*torch.arange(x.ndim - 1, -1, -1))` to reverse the dimensions of a tensor. (Triggered internally at /opt/conda/conda-bld/pytorch_1695391895886/work/aten/src/ATen/native/TensorShape.cpp:3614.)\n",
      "  moments.sum(axis=0).T, torch.matmul(self.W, moments.sum(axis=0))\n"
     ]
    },
    {
     "data": {
      "text/html": [
       "<div>\n",
       "<style scoped>\n",
       "    .dataframe tbody tr th:only-of-type {\n",
       "        vertical-align: middle;\n",
       "    }\n",
       "\n",
       "    .dataframe tbody tr th {\n",
       "        vertical-align: top;\n",
       "    }\n",
       "\n",
       "    .dataframe thead th {\n",
       "        text-align: right;\n",
       "    }\n",
       "</style>\n",
       "<table border=\"1\" class=\"dataframe\">\n",
       "  <thead>\n",
       "    <tr style=\"text-align: right;\">\n",
       "      <th></th>\n",
       "      <th>coef</th>\n",
       "      <th>std err</th>\n",
       "    </tr>\n",
       "  </thead>\n",
       "  <tbody>\n",
       "    <tr>\n",
       "      <th>0</th>\n",
       "      <td>-0.471433</td>\n",
       "      <td>0.038463</td>\n",
       "    </tr>\n",
       "    <tr>\n",
       "      <th>1</th>\n",
       "      <td>1.206489</td>\n",
       "      <td>0.037892</td>\n",
       "    </tr>\n",
       "  </tbody>\n",
       "</table>\n",
       "</div>"
      ],
      "text/plain": [
       "       coef   std err\n",
       "0 -0.471433  0.038463\n",
       "1  1.206489  0.037892"
      ]
     },
     "execution_count": 6,
     "metadata": {},
     "output_type": "execute_result"
    }
   ],
   "source": [
    "%%time\n",
    "def moment_cond(z, y, x, beta):\n",
    "    residuals = (y - x @ beta).unsqueeze(-1)\n",
    "    return z * residuals\n",
    "\n",
    "gmm = GMMEstimator(moment_cond, opt = \"torch\")\n",
    "gmm.fit(np.c_[np.ones(z.shape[0]), X[:, 1]], y, X)\n",
    "gmm.summary()"
   ]
  },
  {
   "cell_type": "markdown",
   "metadata": {},
   "source": [
    "Identical estimates and standard errors."
   ]
  },
  {
   "cell_type": "markdown",
   "metadata": {},
   "source": [
    "# With Endogeneity \n",
    "\n",
    "OLS is inconsistent. Also confirm `GMMEstimator` returns the same answer as IV2SLS."
   ]
  },
  {
   "cell_type": "code",
   "execution_count": 7,
   "metadata": {},
   "outputs": [
    {
     "name": "stdout",
     "output_type": "stream",
     "text": [
      "==============================================================================\n",
      "                 coef    std err          t      P>|t|      [0.025      0.975]\n",
      "------------------------------------------------------------------------------\n",
      "const          0.0086      0.035      0.245      0.807      -0.061       0.078\n",
      "x1             1.9329      0.025     76.192      0.000       1.883       1.983\n",
      "==============================================================================\n"
     ]
    }
   ],
   "source": [
    "y, X, z = dgp(n = 1_000, beta = np.array([0, 1.5]), rho = 0.8)\n",
    "print(sm.OLS(y, X).fit().summary().tables[1])"
   ]
  },
  {
   "cell_type": "code",
   "execution_count": 8,
   "metadata": {},
   "outputs": [
    {
     "name": "stdout",
     "output_type": "stream",
     "text": [
      "CPU times: user 5.19 ms, sys: 5.3 ms, total: 10.5 ms\n",
      "Wall time: 5.01 ms\n"
     ]
    },
    {
     "data": {
      "text/html": [
       "<div>\n",
       "<style scoped>\n",
       "    .dataframe tbody tr th:only-of-type {\n",
       "        vertical-align: middle;\n",
       "    }\n",
       "\n",
       "    .dataframe tbody tr th {\n",
       "        vertical-align: top;\n",
       "    }\n",
       "\n",
       "    .dataframe thead th {\n",
       "        text-align: right;\n",
       "    }\n",
       "</style>\n",
       "<table border=\"1\" class=\"dataframe\">\n",
       "  <thead>\n",
       "    <tr style=\"text-align: right;\">\n",
       "      <th></th>\n",
       "      <th>coef</th>\n",
       "      <th>std err</th>\n",
       "    </tr>\n",
       "  </thead>\n",
       "  <tbody>\n",
       "    <tr>\n",
       "      <th>0</th>\n",
       "      <td>-0.036383</td>\n",
       "      <td>0.043122</td>\n",
       "    </tr>\n",
       "    <tr>\n",
       "      <th>1</th>\n",
       "      <td>1.435081</td>\n",
       "      <td>0.086377</td>\n",
       "    </tr>\n",
       "  </tbody>\n",
       "</table>\n",
       "</div>"
      ],
      "text/plain": [
       "       coef   std err\n",
       "0 -0.036383  0.043122\n",
       "1  1.435081  0.086377"
      ]
     },
     "execution_count": 8,
     "metadata": {},
     "output_type": "execute_result"
    }
   ],
   "source": [
    "%%time\n",
    "ψ = lambda z, y, x, beta: z * (y - x @ beta)[:, np.newaxis]\n",
    "gmm = GMMEstimator(ψ)\n",
    "gmm.fit(np.c_[np.ones(z.shape[0]), z], y, X)\n",
    "gmm.summary()"
   ]
  },
  {
   "cell_type": "code",
   "execution_count": 9,
   "metadata": {},
   "outputs": [
    {
     "name": "stdout",
     "output_type": "stream",
     "text": [
      "CPU times: user 705 ms, sys: 42.8 ms, total: 748 ms\n",
      "Wall time: 67.9 ms\n"
     ]
    },
    {
     "data": {
      "text/html": [
       "<div>\n",
       "<style scoped>\n",
       "    .dataframe tbody tr th:only-of-type {\n",
       "        vertical-align: middle;\n",
       "    }\n",
       "\n",
       "    .dataframe tbody tr th {\n",
       "        vertical-align: top;\n",
       "    }\n",
       "\n",
       "    .dataframe thead th {\n",
       "        text-align: right;\n",
       "    }\n",
       "</style>\n",
       "<table border=\"1\" class=\"dataframe\">\n",
       "  <thead>\n",
       "    <tr style=\"text-align: right;\">\n",
       "      <th></th>\n",
       "      <th>coef</th>\n",
       "      <th>std err</th>\n",
       "    </tr>\n",
       "  </thead>\n",
       "  <tbody>\n",
       "    <tr>\n",
       "      <th>0</th>\n",
       "      <td>-0.036384</td>\n",
       "      <td>0.043123</td>\n",
       "    </tr>\n",
       "    <tr>\n",
       "      <th>1</th>\n",
       "      <td>1.435080</td>\n",
       "      <td>0.086377</td>\n",
       "    </tr>\n",
       "  </tbody>\n",
       "</table>\n",
       "</div>"
      ],
      "text/plain": [
       "       coef   std err\n",
       "0 -0.036384  0.043123\n",
       "1  1.435080  0.086377"
      ]
     },
     "execution_count": 9,
     "metadata": {},
     "output_type": "execute_result"
    }
   ],
   "source": [
    "%%time\n",
    "def moment_cond(z, y, x, beta):\n",
    "    residuals = (y - x @ beta).unsqueeze(-1)\n",
    "    return z * residuals\n",
    "\n",
    "gmm = GMMEstimator(moment_cond, opt = \"torch\")\n",
    "gmm.fit(np.c_[np.ones(z.shape[0]), z], y, X)\n",
    "gmm.summary()"
   ]
  },
  {
   "cell_type": "code",
   "execution_count": 10,
   "metadata": {},
   "outputs": [
    {
     "name": "stderr",
     "output_type": "stream",
     "text": [
      "/home/alal/Desktop/code/00_causal/linearmodels/linearmodels/shared/linalg.py:64: RuntimeWarning: invalid value encountered in sqrt\n",
      "  return vecs @ np.diag(1 / np.sqrt(vals)) @ vecs.T\n"
     ]
    },
    {
     "data": {
      "text/html": [
       "<table class=\"simpletable\">\n",
       "<caption>Parameter Estimates</caption>\n",
       "<tr>\n",
       "     <td></td>     <th>Parameter</th> <th>Std. Err.</th> <th>T-stat</th>  <th>P-value</th> <th>Lower CI</th> <th>Upper CI</th>\n",
       "</tr>\n",
       "<tr>\n",
       "  <th>endog.0</th>  <td>-0.0364</td>   <td>0.0431</td>   <td>-0.8437</td> <td>0.3988</td>   <td>-0.1209</td>  <td>0.0481</td> \n",
       "</tr>\n",
       "<tr>\n",
       "  <th>endog.1</th>  <td>1.4351</td>    <td>0.0864</td>   <td>16.614</td>  <td>0.0000</td>   <td>1.2658</td>   <td>1.6044</td> \n",
       "</tr>\n",
       "</table>"
      ],
      "text/latex": [
       "\\begin{center}\n",
       "\\begin{tabular}{lcccccc}\n",
       "\\toprule\n",
       "                 & \\textbf{Parameter} & \\textbf{Std. Err.} & \\textbf{T-stat} & \\textbf{P-value} & \\textbf{Lower CI} & \\textbf{Upper CI}  \\\\\n",
       "\\midrule\n",
       "\\textbf{endog.0} &      -0.0364       &       0.0431       &     -0.8437     &      0.3988      &      -0.1209      &       0.0481       \\\\\n",
       "\\textbf{endog.1} &       1.4351       &       0.0864       &      16.614     &      0.0000      &       1.2658      &       1.6044       \\\\\n",
       "\\bottomrule\n",
       "\\end{tabular}\n",
       "%\\caption{Parameter Estimates}\n",
       "\\end{center}"
      ],
      "text/plain": [
       "<class 'statsmodels.iolib.table.SimpleTable'>"
      ]
     },
     "execution_count": 10,
     "metadata": {},
     "output_type": "execute_result"
    }
   ],
   "source": [
    "lm.iv.model.IV2SLS(y, None, X, np.c_[np.ones(z.shape[0]), z]).fit().summary.tables[1]"
   ]
  },
  {
   "cell_type": "markdown",
   "metadata": {},
   "source": [
    "Identical estimates and standard errors."
   ]
  }
 ],
 "metadata": {
  "kernelspec": {
   "display_name": "metrics",
   "language": "python",
   "name": "python3"
  },
  "language_info": {
   "codemirror_mode": {
    "name": "ipython",
    "version": 3
   },
   "file_extension": ".py",
   "mimetype": "text/x-python",
   "name": "python",
   "nbconvert_exporter": "python",
   "pygments_lexer": "ipython3",
   "version": "3.11.5"
  }
 },
 "nbformat": 4,
 "nbformat_minor": 2
}
